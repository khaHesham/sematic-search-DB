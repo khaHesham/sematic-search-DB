{
 "cells": [
  {
   "cell_type": "code",
   "execution_count": 5,
   "metadata": {},
   "outputs": [],
   "source": [
    "def magic_seek(cluster_id, metadata):\n",
    "    skip_rows = np.sum(metadata[:cluster_id])\n",
    "    max_rows = metadata[cluster_id]\n",
    "    return skip_rows, max_rows"
   ]
  },
  {
   "cell_type": "code",
   "execution_count": 7,
   "metadata": {},
   "outputs": [
    {
     "name": "stdout",
     "output_type": "stream",
     "text": [
      "[1. 2.]\n"
     ]
    }
   ],
   "source": [
    "# test = np.empty((0,2))\n",
    "# test = np.concatenate(np.array([[1,2]]))\n",
    "# test\n",
    "\n",
    "result = np.array([])\n",
    "result = np.append(result, np.array([1, 2]))\n",
    "\n",
    "print(result)"
   ]
  },
  {
   "cell_type": "code",
   "execution_count": 8,
   "metadata": {},
   "outputs": [],
   "source": [
    "data = np.random.random((20, 8))\n",
    "train(data,4)"
   ]
  },
  {
   "cell_type": "code",
   "execution_count": 9,
   "metadata": {},
   "outputs": [],
   "source": [
    "D, M, nbits = 8, 4, 2\n",
    "index_pq = IndexPQ(D, M, nbits)\n",
    "\n",
    "data = np.random.random((50, D))\n",
    "\n",
    "index_ivfpq = IVF_PQ(nprob=2, nbits=4, D=D ,pq_index=index_pq)\n",
    "\n",
    "index_ivfpq.train(data)\n",
    "index_ivfpq.save('index_pq_ivf')\n",
    "#===================================================================       "
   ]
  },
  {
   "cell_type": "code",
   "execution_count": 10,
   "metadata": {},
   "outputs": [
    {
     "name": "stdout",
     "output_type": "stream",
     "text": [
      "[0 9]\n"
     ]
    },
    {
     "data": {
      "text/plain": [
       "array([30, 42, 35,  6,  1])"
      ]
     },
     "execution_count": 10,
     "metadata": {},
     "output_type": "execute_result"
    }
   ],
   "source": [
    "np.random.seed(42)\n",
    "index_ivfpq.load('index_pq_ivf')\n",
    "q = np.random.random(D)\n",
    "index_ivfpq.search(q, 5)\n"
   ]
  },
  {
   "cell_type": "code",
   "execution_count": 7,
   "metadata": {},
   "outputs": [
    {
     "name": "stdout",
     "output_type": "stream",
     "text": [
      "[3 5 0]\n"
     ]
    }
   ],
   "source": [
    "import numpy as np\n",
    "arr = np.array([5, 1, 3, 4, 2, 6, 0])\n",
    "# Use argpartition to get indices of k largest elements= \n",
    "indices = np.argpartition(arr, -3)[-3:]\n",
    "print(indices)\n",
    "\n",
    "# Sort the selected indices by their corresponding values in descending order\n",
    "# indices_sorted = indices[np.argsort(arr[indices])[::-1]]\n",
    "# print(indices_sorted) "
   ]
  },
  {
   "cell_type": "code",
   "execution_count": 24,
   "metadata": {},
   "outputs": [
    {
     "name": "stdout",
     "output_type": "stream",
     "text": [
      "(70,)\n",
      "[ 84 149 224 186  67]\n"
     ]
    }
   ],
   "source": [
    "import numpy as np\n",
    "\n",
    "centroids = np.random.random((256, 70))\n",
    "q = np.random.random(70)\n",
    "print(q.shape)\n",
    "\n",
    "\n",
    "dot_product = centroids @ q.T # (K, D) * (D, 1) -> (K, 1)\n",
    "# print(dot_product.shape)\n",
    "norm_vec1 = np.linalg.norm(centroids, axis=1) # (K, 1)\n",
    "# print(norm_vec1.shape)\n",
    "norm_vec2 = np.linalg.norm(q)\n",
    "# print(norm_vec2.shape)\n",
    "\n",
    "norm = norm_vec1 * norm_vec2\n",
    "# print(norm.shape)\n",
    "\n",
    "# # norm = norm.reshape((-1,1))\n",
    "\n",
    "\n",
    "distances = dot_product / norm\n",
    "# print(distances.shape)\n",
    "# distances = distances.flatten()\n",
    "\n",
    "nearest_clusters = np.argsort(distances)[-5:]\n",
    "print(nearest_clusters)"
   ]
  },
  {
   "cell_type": "code",
   "execution_count": 3,
   "metadata": {},
   "outputs": [],
   "source": [
    "import os\n",
    "os.chmod('out/clusters/',0o700)"
   ]
  },
  {
   "cell_type": "code",
   "execution_count": null,
   "metadata": {},
   "outputs": [],
   "source": []
  }
 ],
 "metadata": {
  "kernelspec": {
   "display_name": "Python 3",
   "language": "python",
   "name": "python3"
  },
  "language_info": {
   "codemirror_mode": {
    "name": "ipython",
    "version": 3
   },
   "file_extension": ".py",
   "mimetype": "text/x-python",
   "name": "python",
   "nbconvert_exporter": "python",
   "pygments_lexer": "ipython3",
   "version": "3.10.7"
  }
 },
 "nbformat": 4,
 "nbformat_minor": 2
}
